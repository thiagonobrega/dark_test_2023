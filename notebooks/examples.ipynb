{
 "cells": [
  {
   "cell_type": "code",
   "execution_count": 1,
   "metadata": {},
   "outputs": [],
   "source": [
    "import ijson\n",
    "import zipfile\n",
    "import pandas as pd"
   ]
  },
  {
   "cell_type": "code",
   "execution_count": 2,
   "metadata": {},
   "outputs": [],
   "source": [
    "def extract_itens(input_file_path, target_inst=None):\n",
    "    set_of_itens = []\n",
    "\n",
    "    with zipfile.ZipFile(input_file_path, \"r\") as zip_file:\n",
    "        filename= zip_file.namelist()[0]\n",
    "    \n",
    "        with zip_file.open(filename) as json_file:\n",
    "            parser = ijson.parse(json_file)\n",
    "\n",
    "        # Inicie o parsing do JSON\n",
    "            in_docs = False\n",
    "            for prefix, event, value in parser:\n",
    "                if in_docs:\n",
    "                    if event == 'start_map':\n",
    "                        doc = {}  # Inicie um novo dicionário para cada documento \"docs\"\n",
    "                    elif event == 'end_map':\n",
    "                    # Faça algo com o documento, por exemplo, imprimir ou processar\n",
    "                    # i+=1\n",
    "                    # if i > limit:\n",
    "                    #     break\n",
    "                        if target_inst!= None:\n",
    "                            try:\n",
    "                                if target_inst.get(doc['instacron_str']) != None:\n",
    "                                    set_of_itens.append(doc)\n",
    "                            except KeyError:\n",
    "                                pass\n",
    "                        else:\n",
    "                            set_of_itens.append(doc)\n",
    "                    else:\n",
    "                        short_prexif = prefix.split('.')[-1]\n",
    "                        if short_prexif != 'item':\n",
    "                            doc[short_prexif] = value\n",
    "                elif prefix == 'response.docs':\n",
    "                    in_docs = True\n",
    "\n",
    "# Certifique-se de fechar o arquivo após a leitura\n",
    "    json_file.close()\n",
    "    return set_of_itens"
   ]
  },
  {
   "cell_type": "markdown",
   "metadata": {},
   "source": [
    "- id - o id do documento no Oasisbr\n",
    "- oai_identifier_str - id externo que vem do repositório de origem\n",
    "- instname_str - nome da instituição de origem\n",
    "- instacron_str - acrônimo da instituição de origem\n",
    "- network_acronym_str - acrônimo da rede de origem (pode descartar)\n",
    "- network_name_str - nome da rede origem (pode descartar)\n",
    "- title - título\n",
    "- author - autores\n",
    "- publishDate  - data da publicação\n",
    "- format - tipo de documento (article, masterThesis, doctoralThesis, …)\n",
    "- description - abstract\n",
    "- topic - keywords\n",
    "- language - idioma do documento\n",
    "- eu_rights_str_mv - tipo de acesso (openAccess, closed, …)\n",
    "- url - url externa para o documento"
   ]
  },
  {
   "cell_type": "code",
   "execution_count": 3,
   "metadata": {},
   "outputs": [
    {
     "data": {
      "text/html": [
       "<div>\n",
       "<style scoped>\n",
       "    .dataframe tbody tr th:only-of-type {\n",
       "        vertical-align: middle;\n",
       "    }\n",
       "\n",
       "    .dataframe tbody tr th {\n",
       "        vertical-align: top;\n",
       "    }\n",
       "\n",
       "    .dataframe thead th {\n",
       "        text-align: right;\n",
       "    }\n",
       "</style>\n",
       "<table border=\"1\" class=\"dataframe\">\n",
       "  <thead>\n",
       "    <tr style=\"text-align: right;\">\n",
       "      <th></th>\n",
       "      <th>id</th>\n",
       "      <th>oai_identifier_str</th>\n",
       "      <th>network_acronym_str</th>\n",
       "      <th>network_name_str</th>\n",
       "      <th>title</th>\n",
       "      <th>author</th>\n",
       "      <th>topic</th>\n",
       "      <th>description</th>\n",
       "      <th>publishDate</th>\n",
       "      <th>format</th>\n",
       "      <th>url</th>\n",
       "      <th>language</th>\n",
       "      <th>eu_rights_str_mv</th>\n",
       "      <th>instname_str</th>\n",
       "      <th>instacron_str</th>\n",
       "      <th>docs</th>\n",
       "    </tr>\n",
       "  </thead>\n",
       "  <tbody>\n",
       "    <tr>\n",
       "      <th>0</th>\n",
       "      <td>UFCG_06f953de5632423215f2902ee1c9977f</td>\n",
       "      <td>oai:localhost:riufcg/6033</td>\n",
       "      <td>UFCG</td>\n",
       "      <td>Biblioteca Digital de Teses e Dissertações da ...</td>\n",
       "      <td>O uso da iconografia no ensino de história: um...</td>\n",
       "      <td>None</td>\n",
       "      <td>NaN</td>\n",
       "      <td>Esta pesquisa centra-se no estudo da iconograf...</td>\n",
       "      <td>None</td>\n",
       "      <td>None</td>\n",
       "      <td>None</td>\n",
       "      <td>NaN</td>\n",
       "      <td>None</td>\n",
       "      <td>Universidade Federal de Campina Grande (UFCG)</td>\n",
       "      <td>UFCG</td>\n",
       "      <td>NaN</td>\n",
       "    </tr>\n",
       "    <tr>\n",
       "      <th>1</th>\n",
       "      <td>UFCG_1f3af7882a45950655b4fb799ea6aa22</td>\n",
       "      <td>oai:localhost:riufcg/6034</td>\n",
       "      <td>UFCG</td>\n",
       "      <td>Biblioteca Digital de Teses e Dissertações da ...</td>\n",
       "      <td>Usos sociais da escrita por alunos de turmas d...</td>\n",
       "      <td>None</td>\n",
       "      <td>NaN</td>\n",
       "      <td>A presente investigação tem como foco a anális...</td>\n",
       "      <td>None</td>\n",
       "      <td>None</td>\n",
       "      <td>None</td>\n",
       "      <td>NaN</td>\n",
       "      <td>None</td>\n",
       "      <td>Universidade Federal de Campina Grande (UFCG)</td>\n",
       "      <td>UFCG</td>\n",
       "      <td>NaN</td>\n",
       "    </tr>\n",
       "  </tbody>\n",
       "</table>\n",
       "</div>"
      ],
      "text/plain": [
       "                                      id         oai_identifier_str  \\\n",
       "0  UFCG_06f953de5632423215f2902ee1c9977f  oai:localhost:riufcg/6033   \n",
       "1  UFCG_1f3af7882a45950655b4fb799ea6aa22  oai:localhost:riufcg/6034   \n",
       "\n",
       "  network_acronym_str                                   network_name_str  \\\n",
       "0                UFCG  Biblioteca Digital de Teses e Dissertações da ...   \n",
       "1                UFCG  Biblioteca Digital de Teses e Dissertações da ...   \n",
       "\n",
       "                                               title author  topic  \\\n",
       "0  O uso da iconografia no ensino de história: um...   None    NaN   \n",
       "1  Usos sociais da escrita por alunos de turmas d...   None    NaN   \n",
       "\n",
       "                                         description publishDate format   url  \\\n",
       "0  Esta pesquisa centra-se no estudo da iconograf...        None   None  None   \n",
       "1  A presente investigação tem como foco a anális...        None   None  None   \n",
       "\n",
       "   language eu_rights_str_mv                                   instname_str  \\\n",
       "0       NaN             None  Universidade Federal de Campina Grande (UFCG)   \n",
       "1       NaN             None  Universidade Federal de Campina Grande (UFCG)   \n",
       "\n",
       "  instacron_str  docs  \n",
       "0          UFCG   NaN  \n",
       "1          UFCG   NaN  "
      ]
     },
     "execution_count": 3,
     "metadata": {},
     "output_type": "execute_result"
    }
   ],
   "source": [
    "input_file_path=\"D:\\\\tmp\\oaisis\\oasisbr_5.zip\"\n",
    "\n",
    "target_inst = {\n",
    "                'UFCG' : 1,\n",
    "               'UEPB' : 1\n",
    "            }\n",
    "\n",
    "pd.DataFrame(extract_itens(input_file_path, target_inst=target_inst)).head(2)"
   ]
  },
  {
   "cell_type": "code",
   "execution_count": 10,
   "metadata": {},
   "outputs": [
    {
     "ename": "NameError",
     "evalue": "name 'extract_itens' is not defined",
     "output_type": "error",
     "traceback": [
      "\u001b[1;31m---------------------------------------------------------------------------\u001b[0m",
      "\u001b[1;31mNameError\u001b[0m                                 Traceback (most recent call last)",
      "\u001b[1;32md:\\workspace\\dARK\\hd_run_test\\scratch\\oais_reader.ipynb Célula 5\u001b[0m line \u001b[0;36m1\n\u001b[0;32m     <a href='vscode-notebook-cell:/d%3A/workspace/dARK/hd_run_test/scratch/oais_reader.ipynb#W4sZmlsZQ%3D%3D?line=9'>10</a>\u001b[0m \u001b[39mfor\u001b[39;00m i \u001b[39min\u001b[39;00m file_list:\n\u001b[0;32m     <a href='vscode-notebook-cell:/d%3A/workspace/dARK/hd_run_test/scratch/oais_reader.ipynb#W4sZmlsZQ%3D%3D?line=10'>11</a>\u001b[0m     input_file_path \u001b[39m=\u001b[39m input_path \u001b[39m+\u001b[39m i\n\u001b[1;32m---> <a href='vscode-notebook-cell:/d%3A/workspace/dARK/hd_run_test/scratch/oais_reader.ipynb#W4sZmlsZQ%3D%3D?line=11'>12</a>\u001b[0m     out_local \u001b[39m=\u001b[39m extract_itens(input_file_path, target_inst\u001b[39m=\u001b[39mtarget_inst)\n\u001b[0;32m     <a href='vscode-notebook-cell:/d%3A/workspace/dARK/hd_run_test/scratch/oais_reader.ipynb#W4sZmlsZQ%3D%3D?line=12'>13</a>\u001b[0m     output \u001b[39m=\u001b[39m output \u001b[39m+\u001b[39m out_local\n",
      "\u001b[1;31mNameError\u001b[0m: name 'extract_itens' is not defined"
     ]
    }
   ],
   "source": [
    "input_path=\"D:\\\\tmp\\oaisis\\\\\"\n",
    "file_list = ['oasisbr_1.zip','oasisbr_2.zip','oasisbr_3.zip','oasisbr_4.zip','oasisbr_5.zip']\n",
    "\n",
    "target_inst = {\n",
    "               'UEPB' : 1\n",
    "}\n",
    "\n",
    "output=[]\n",
    "\n",
    "for i in file_list:\n",
    "    input_file_path = input_path + i\n",
    "    out_local = extract_itens(input_file_path, target_inst=target_inst)\n",
    "    output = output + out_local\n",
    "\n"
   ]
  },
  {
   "cell_type": "code",
   "execution_count": 6,
   "metadata": {},
   "outputs": [],
   "source": [
    "uepb = pd.DataFrame(output)"
   ]
  },
  {
   "cell_type": "code",
   "execution_count": 9,
   "metadata": {},
   "outputs": [
    {
     "data": {
      "text/plain": [
       "network_name_str\n",
       "Biblioteca Digital de Teses e Dissertações da UEPB    2388\n",
       "Revista de Estudos Internacionais (REI)                 11\n",
       "Repositório Institucional da UEPB                        2\n",
       "Name: count, dtype: int64"
      ]
     },
     "execution_count": 9,
     "metadata": {},
     "output_type": "execute_result"
    }
   ],
   "source": [
    "uepb.network_name_str.value_counts()"
   ]
  },
  {
   "cell_type": "markdown",
   "metadata": {},
   "source": [
    "# doi query"
   ]
  },
  {
   "cell_type": "code",
   "execution_count": 9,
   "metadata": {},
   "outputs": [
    {
     "data": {
      "text/plain": [
       "'10.1016/j.datak.2023.102180'"
      ]
     },
     "execution_count": 9,
     "metadata": {},
     "output_type": "execute_result"
    }
   ],
   "source": [
    "import sys\n",
    "sys.path.append(\"../\")\n",
    "from clients import CrossrefClient\n",
    "\n",
    "titulo_publicacao = \"Incremental Entity Blocking over Heterogeneous Streaming Data\"\n",
    "titulo_publicacao = \"Towards automatic Privacy-Preserving Record Linkage: A Transfer Learning based classification step\"\n",
    "cr_client = CrossrefClient()\n",
    "cr_client.get_doi_by_title(titulo_publicacao)\n"
   ]
  },
  {
   "cell_type": "markdown",
   "metadata": {},
   "source": [
    "# oai query"
   ]
  },
  {
   "cell_type": "markdown",
   "metadata": {},
   "source": [
    "http://harvester.ibict.br:8092/request?verb=GetRecord&identifier=oai:periodicos.ufsc.br:article/26431&metadataPrefix=xoai\n",
    "\n",
    "\n",
    "```\n",
    "http://harvester.ibict.br:8092/request?verb=GetRecord&identifier= + id + &metadataPrefix=xoai\n",
    "```"
   ]
  },
  {
   "cell_type": "code",
   "execution_count": null,
   "metadata": {},
   "outputs": [],
   "source": [
    "import requests\n",
    "\n",
    "# URL do servidor OAI\n",
    "oai_base_url = 'http://example.com/oai-pmh-server'\n",
    "\n",
    "# Identificador que você deseja recuperar\n",
    "identifier = 'oai:periodicos.ufsc.br:article/26431'\n",
    "\n",
    "# Parâmetros da consulta\n",
    "params = {\n",
    "    'verb': 'GetRecord',  # A ação para recuperar um registro\n",
    "    'metadataPrefix': 'oai_dc',  # O formato de metadados desejado\n",
    "    'identifier': identifier  # O identificador único do registro\n",
    "}\n",
    "\n",
    "# Realizar a solicitação HTTP\n",
    "response = requests.get(oai_base_url, params=params)\n",
    "\n",
    "if response.status_code == 200:\n",
    "    # O servidor respondeu com sucesso, e você pode acessar os metadados da resposta\n",
    "    oai_metadata = response.content  # Isso contém os metadados do registro no formato especificado (neste caso, Dublin Core)\n",
    "\n",
    "    # Agora você pode processar os metadados como desejado\n",
    "    print(oai_metadata)\n",
    "else:\n",
    "    # Lidar com possíveis erros\n",
    "    print(\"Erro na solicitação OAI-PMH. Código de status:\", response.status_code)\n",
    "    print(response.text)  # Isso pode conter informações de erro do servidor"
   ]
  },
  {
   "cell_type": "code",
   "execution_count": null,
   "metadata": {},
   "outputs": [],
   "source": [
    "user_to_repos = {}\n",
    "\n",
    "with zipfile.ZipFile(\"./data/drug-event-Q4-0001-of-0013.json.zip\", \"r\") as z:\n",
    "\n",
    "\n",
    "with open(\"large-file.json\", \"rb\") as f:\n",
    "    for record in ijson.items(f, \"item\"):\n",
    "        user = record[\"actor\"][\"login\"]\n",
    "        repo = record[\"repo\"][\"name\"]\n",
    "        if user not in user_to_repos:\n",
    "            user_to_repos[user] = set()\n",
    "        user_to_repos[user].add(repo)"
   ]
  }
 ],
 "metadata": {
  "kernelspec": {
   "display_name": ".venv",
   "language": "python",
   "name": "python3"
  },
  "language_info": {
   "codemirror_mode": {
    "name": "ipython",
    "version": 3
   },
   "file_extension": ".py",
   "mimetype": "text/x-python",
   "name": "python",
   "nbconvert_exporter": "python",
   "pygments_lexer": "ipython3",
   "version": "3.11.6"
  }
 },
 "nbformat": 4,
 "nbformat_minor": 2
}

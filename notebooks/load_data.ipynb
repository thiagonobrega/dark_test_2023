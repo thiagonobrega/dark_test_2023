{
 "cells": [
  {
   "cell_type": "code",
   "execution_count": 1,
   "metadata": {},
   "outputs": [],
   "source": [
    "import sys\n",
    "import pandas as pd\n",
    "sys.path.append(\"../\")\n",
    "\n",
    "from utils.oasis_reader import extract_itens_from_json\n",
    "from clients import CrossrefClient"
   ]
  },
  {
   "cell_type": "markdown",
   "metadata": {},
   "source": [
    "# get input"
   ]
  },
  {
   "cell_type": "code",
   "execution_count": 3,
   "metadata": {},
   "outputs": [],
   "source": [
    "input_path=\"D:\\\\tmp\\oaisis\\\\\"\n",
    "file_list = ['oasisbr_1.zip','oasisbr_2.zip','oasisbr_3.zip','oasisbr_4.zip','oasisbr_5.zip']\n",
    "# file_list = ['oasisbr_5.zip']\n",
    "\n",
    "target_inst = {\n",
    "               'UEPB' : 1,\n",
    "               'UFCG' : 1,\n",
    "               'UFPB' : 1,\n",
    "               'FACISA' : 1,\n",
    "               'FIP' : 1\n",
    "            # 'UFSC' : 1\n",
    "}\n",
    "\n",
    "output=[]\n",
    "\n",
    "for i in file_list:\n",
    "    input_file_path = input_path + i\n",
    "    # out_local = extract_itens_from_json(input_file_path,remove_att_list=['description'])\n",
    "    out_local = extract_itens_from_json(input_file_path, filtro_inst=target_inst,remove_att_list=['description'])\n",
    "    output = output + out_local"
   ]
  },
  {
   "cell_type": "markdown",
   "metadata": {},
   "source": [
    "explorar"
   ]
  },
  {
   "cell_type": "markdown",
   "metadata": {},
   "source": [
    "- id - o id do documento no Oasisbr\n",
    "- oai_identifier_str - id externo que vem do repositório de origem\n",
    "- instname_str - nome da instituição de origem\n",
    "- instacron_str - acrônimo da instituição de origem\n",
    "- network_acronym_str - acrônimo da rede de origem (pode descartar)\n",
    "- network_name_str - nome da rede origem (pode descartar)\n",
    "- title - título\n",
    "- author - autores\n",
    "- publishDate  - data da publicação\n",
    "- format - tipo de documento (article, masterThesis, doctoralThesis, …)\n",
    "- description - abstract\n",
    "- topic - keywords\n",
    "- language - idioma do documento\n",
    "- eu_rights_str_mv - tipo de acesso (openAccess, closed, …)\n",
    "- url - url externa para o documento"
   ]
  },
  {
   "cell_type": "code",
   "execution_count": 4,
   "metadata": {},
   "outputs": [
    {
     "data": {
      "text/plain": [
       "47820"
      ]
     },
     "execution_count": 4,
     "metadata": {},
     "output_type": "execute_result"
    }
   ],
   "source": [
    "df_ = pd.DataFrame(output)\n",
    "len(df_)"
   ]
  },
  {
   "cell_type": "code",
   "execution_count": 5,
   "metadata": {},
   "outputs": [
    {
     "data": {
      "text/html": [
       "<div>\n",
       "<style scoped>\n",
       "    .dataframe tbody tr th:only-of-type {\n",
       "        vertical-align: middle;\n",
       "    }\n",
       "\n",
       "    .dataframe tbody tr th {\n",
       "        vertical-align: top;\n",
       "    }\n",
       "\n",
       "    .dataframe thead th {\n",
       "        text-align: right;\n",
       "    }\n",
       "</style>\n",
       "<table border=\"1\" class=\"dataframe\">\n",
       "  <thead>\n",
       "    <tr style=\"text-align: right;\">\n",
       "      <th></th>\n",
       "      <th>id</th>\n",
       "      <th>oai_identifier_str</th>\n",
       "      <th>network_acronym_str</th>\n",
       "      <th>network_name_str</th>\n",
       "      <th>title</th>\n",
       "      <th>author</th>\n",
       "      <th>publishDate</th>\n",
       "      <th>format</th>\n",
       "      <th>url</th>\n",
       "      <th>language</th>\n",
       "      <th>eu_rights_str_mv</th>\n",
       "      <th>instname_str</th>\n",
       "      <th>instacron_str</th>\n",
       "      <th>topic</th>\n",
       "    </tr>\n",
       "  </thead>\n",
       "  <tbody>\n",
       "    <tr>\n",
       "      <th>0</th>\n",
       "      <td>UFPB-10_dac161c193eb2eddda844d329397b8d0</td>\n",
       "      <td>oai:periodicos.ufpb.br:article/14616</td>\n",
       "      <td>UFPB-10</td>\n",
       "      <td>Acta Semiótica et Lingvistica (Online)</td>\n",
       "      <td>CONSIDERAÇÕES SOBRE A SEMIÓTICA DAS CULTURAS, ...</td>\n",
       "      <td>PAIS, CIDMAR TEODORO</td>\n",
       "      <td>2009</td>\n",
       "      <td>article</td>\n",
       "      <td>https://periodicos.ufpb.br/index.php/actas/art...</td>\n",
       "      <td>por</td>\n",
       "      <td>openAccess</td>\n",
       "      <td>Universidade Federal da Paraíba (UFPB)</td>\n",
       "      <td>UFPB</td>\n",
       "      <td>NaN</td>\n",
       "    </tr>\n",
       "    <tr>\n",
       "      <th>1</th>\n",
       "      <td>UFPB-10_6c85577aae298ee530508b33c13c6c25</td>\n",
       "      <td>oai:periodicos.ufpb.br:article/14617</td>\n",
       "      <td>UFPB-10</td>\n",
       "      <td>Acta Semiótica et Lingvistica (Online)</td>\n",
       "      <td>SÉMIOTIQUE ET SCIENCES DE LA CULTURE</td>\n",
       "      <td>RASTIER, FRANÇOIS</td>\n",
       "      <td>2009</td>\n",
       "      <td>article</td>\n",
       "      <td>https://periodicos.ufpb.br/index.php/actas/art...</td>\n",
       "      <td>por</td>\n",
       "      <td>openAccess</td>\n",
       "      <td>Universidade Federal da Paraíba (UFPB)</td>\n",
       "      <td>UFPB</td>\n",
       "      <td>NaN</td>\n",
       "    </tr>\n",
       "  </tbody>\n",
       "</table>\n",
       "</div>"
      ],
      "text/plain": [
       "                                         id  \\\n",
       "0  UFPB-10_dac161c193eb2eddda844d329397b8d0   \n",
       "1  UFPB-10_6c85577aae298ee530508b33c13c6c25   \n",
       "\n",
       "                     oai_identifier_str network_acronym_str  \\\n",
       "0  oai:periodicos.ufpb.br:article/14616             UFPB-10   \n",
       "1  oai:periodicos.ufpb.br:article/14617             UFPB-10   \n",
       "\n",
       "                         network_name_str  \\\n",
       "0  Acta Semiótica et Lingvistica (Online)   \n",
       "1  Acta Semiótica et Lingvistica (Online)   \n",
       "\n",
       "                                               title                author  \\\n",
       "0  CONSIDERAÇÕES SOBRE A SEMIÓTICA DAS CULTURAS, ...  PAIS, CIDMAR TEODORO   \n",
       "1               SÉMIOTIQUE ET SCIENCES DE LA CULTURE     RASTIER, FRANÇOIS   \n",
       "\n",
       "  publishDate   format                                                url  \\\n",
       "0        2009  article  https://periodicos.ufpb.br/index.php/actas/art...   \n",
       "1        2009  article  https://periodicos.ufpb.br/index.php/actas/art...   \n",
       "\n",
       "  language eu_rights_str_mv                            instname_str  \\\n",
       "0      por       openAccess  Universidade Federal da Paraíba (UFPB)   \n",
       "1      por       openAccess  Universidade Federal da Paraíba (UFPB)   \n",
       "\n",
       "  instacron_str topic  \n",
       "0          UFPB   NaN  \n",
       "1          UFPB   NaN  "
      ]
     },
     "execution_count": 5,
     "metadata": {},
     "output_type": "execute_result"
    }
   ],
   "source": [
    "df_.to_json('pb-data.json')\n",
    "# df_.to_json('UFSC-data.json')\n",
    "df_.head(2)\n",
    "# df.instacron_str.value_counts()"
   ]
  },
  {
   "cell_type": "markdown",
   "metadata": {},
   "source": [
    "# load"
   ]
  },
  {
   "cell_type": "code",
   "execution_count": 6,
   "metadata": {},
   "outputs": [],
   "source": [
    "df=pd.read_json('pb-data.json')"
   ]
  },
  {
   "cell_type": "code",
   "execution_count": null,
   "metadata": {},
   "outputs": [],
   "source": [
    "df"
   ]
  },
  {
   "cell_type": "code",
   "execution_count": null,
   "metadata": {},
   "outputs": [],
   "source": [
    "- id - o id do documento no Oasisbr\n",
    "- oai_identifier_str - id externo que vem do repositório de origem\n",
    "- instname_str - nome da instituição de origem\n",
    "- instacron_str - acrônimo da instituição de origem\n",
    "- network_acronym_str - acrônimo da rede de origem (pode descartar)\n",
    "- network_name_str - nome da rede origem (pode descartar)\n",
    "- title - título\n",
    "- author - autores\n",
    "- publishDate  - data da publicação\n",
    "- format - tipo de documento (article, masterThesis, doctoralThesis, …)\n",
    "- description - abstract\n",
    "- topic - keywords\n",
    "- language - idioma do documento\n",
    "- eu_rights_str_mv - tipo de acesso (openAccess, closed, …)\n",
    "- url - url externa para o documento"
   ]
  },
  {
   "cell_type": "code",
   "execution_count": 9,
   "metadata": {},
   "outputs": [
    {
     "name": "stdout",
     "output_type": "stream",
     "text": [
      "UFPB-10_dac161c193eb2eddda844d329397b8d0 oai:periodicos.ufpb.br:article/14616 CONSIDERAÇÕES SOBRE A SEMIÓTICA DAS CULTURAS, UMA CIÊNCIA DA INTERPRETAÇÃO: INSERÇÃO CULTURAL, TRANSCODIFICAÇÕES TRANSCULTURAIS article https://periodicos.ufpb.br/index.php/actas/article/view/14616 None\n",
      "UFPB-10_6c85577aae298ee530508b33c13c6c25 oai:periodicos.ufpb.br:article/14617 SÉMIOTIQUE ET SCIENCES DE LA CULTURE article https://periodicos.ufpb.br/index.php/actas/article/view/14617 None\n",
      "UFPB-10_52b6d1fc4f082ea490681ce15a400d1e oai:periodicos.ufpb.br:article/14618 TERMINODIDÁTICA: RECORTES EPISTEMOLÓGICOS E FUNÇÕES PEDAGÓGICAS article https://periodicos.ufpb.br/index.php/actas/article/view/14618 None\n",
      "UFPB-10_acb8e546ea82c55732a1ecd5adab01fb oai:periodicos.ufpb.br:article/14619 FESTAS SEMIÓTICAS article https://periodicos.ufpb.br/index.php/actas/article/view/14619 None\n",
      "UFPB-10_ae0d6cfd16fae5061523d5686bf498e7 oai:periodicos.ufpb.br:article/14620 MARCAS INJUNTIVAS DA LINGUAGEM COMO CONSTRUÇÃO DE UMA NARRATIVA IMPLÍCITA: ANÁLISE DA CRÔNICA \"MENINO\", DE FERNANDO SABINO article https://periodicos.ufpb.br/index.php/actas/article/view/14620 None\n",
      "UFPB-10_d6cdc6be4b48b49ef1b5631b308fcd9b oai:periodicos.ufpb.br:article/14621 L'ICONE, L'HYPOICONE ET LA METAPHORE. L'AVANCEE DANS L'HYPOICONE JUSQU'A LA LIMITE DU NON CONCEPTUALISABLE article https://periodicos.ufpb.br/index.php/actas/article/view/14621 None\n",
      "UFPB-10_a413e23e0b454eb44adcf311f968e5e8 oai:periodicos.ufpb.br:article/14622 O CORPO E O OBSERVADOR NA DISCURSIVIZAÇÃO article https://periodicos.ufpb.br/index.php/actas/article/view/14622 None\n",
      "UFPB-10_bece208e41c2192e0d2841833b9bac81 oai:periodicos.ufpb.br:article/14623 TRADUÇÕES SEMIÓTICAS EM GUIMARÃES ROSA article https://periodicos.ufpb.br/index.php/actas/article/view/14623 None\n",
      "UFPB-10_f29db7511516c949db99f13128d81f59 oai:periodicos.ufpb.br:article/14624 SEMIÓTICA, POESIA E EVOLUÇÃO: UMA ABORDAGEM PANORÂMICA DA POÉTICA SEMIOEVOLUTIVA DE WALTER A. KOCH article https://periodicos.ufpb.br/index.php/actas/article/view/14624 None\n",
      "UFPB-10_ed0ea32d243116b4a51223c9e0019a03 oai:periodicos.ufpb.br:article/14625 OS PROCESSOS DE SIGNIFICAÇÃO NA GLOBALIZAÇÃO: O PAPEL DA PUBLICIDADE article https://periodicos.ufpb.br/index.php/actas/article/view/14625 None\n",
      "UFPB-10_339a36f3c93c65bca2ae2e3feef172ef oai:periodicos.ufpb.br:article/14626 UMA MULHER VESTIDA DE SOL: ATUALIZAÇÃO NORDESTINA DA SÁTIRA MENIPÉIA article https://periodicos.ufpb.br/index.php/actas/article/view/14626 None\n",
      "UFPB-10_b5cab5769040a7dce1d4525df4a95a3f oai:periodicos.ufpb.br:article/14627 SIGNIFICADO E USO DAS PALAVRAS: PRECEDÊNCIA OU CONCOMITÂNCIA TEMPORAL? article https://periodicos.ufpb.br/index.php/actas/article/view/14627 None\n"
     ]
    }
   ],
   "source": [
    "i=0\n",
    "for index, row in df.iterrows():\n",
    "    oasis_id = row['id']\n",
    "    oai_id   = row['oai_identifier_str']\n",
    "    title    = row.get('title')\n",
    "    tipo     = row.get('format')\n",
    "    url      = row.get('url')\n",
    "    # topics   = row.get('topic')\n",
    "\n",
    "    print(oasis_id,oai_id,title, tipo, url )\n",
    "\n",
    "\n",
    "    if i > 10:\n",
    "        break\n",
    "    i+=1"
   ]
  },
  {
   "cell_type": "code",
   "execution_count": null,
   "metadata": {},
   "outputs": [],
   "source": [
    "# cr_client = CrossrefClient()\n",
    "# cr_client.get_doi_by_title(titulo_publicacao)"
   ]
  }
 ],
 "metadata": {
  "kernelspec": {
   "display_name": ".venv",
   "language": "python",
   "name": "python3"
  },
  "language_info": {
   "codemirror_mode": {
    "name": "ipython",
    "version": 3
   },
   "file_extension": ".py",
   "mimetype": "text/x-python",
   "name": "python",
   "nbconvert_exporter": "python",
   "pygments_lexer": "ipython3",
   "version": "3.11.6"
  }
 },
 "nbformat": 4,
 "nbformat_minor": 2
}

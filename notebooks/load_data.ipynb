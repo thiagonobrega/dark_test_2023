{
 "cells": [
  {
   "cell_type": "code",
   "execution_count": 1,
   "metadata": {},
   "outputs": [],
   "source": [
    "import sys\n",
    "import pandas as pd\n",
    "sys.path.append(\"../\")\n",
    "\n",
    "from utils.oasis_reader import extract_itens_from_json\n",
    "from clients import CrossrefClient"
   ]
  },
  {
   "cell_type": "markdown",
   "metadata": {},
   "source": [
    "# get input"
   ]
  },
  {
   "cell_type": "code",
   "execution_count": 11,
   "metadata": {},
   "outputs": [],
   "source": [
    "input_path=\"D:\\\\tmp\\oaisis\\\\\"\n",
    "file_list = ['oasisbr_1.zip','oasisbr_2.zip','oasisbr_3.zip','oasisbr_4.zip','oasisbr_5.zip']\n",
    "\n",
    "target_inst = {\n",
    "               'UNB' : 1\n",
    "}\n",
    "\n",
    "output=[]\n",
    "\n",
    "for i in file_list:\n",
    "    input_file_path = input_path + i\n",
    "    out_local = extract_itens_from_json(input_file_path)\n",
    "    # out_local = extract_itens_from_json(input_file_path, target_inst=target_inst)\n",
    "    output = output + out_local"
   ]
  },
  {
   "cell_type": "markdown",
   "metadata": {},
   "source": [
    "explorar"
   ]
  },
  {
   "cell_type": "markdown",
   "metadata": {},
   "source": [
    "- id - o id do documento no Oasisbr\n",
    "- oai_identifier_str - id externo que vem do repositório de origem\n",
    "- instname_str - nome da instituição de origem\n",
    "- instacron_str - acrônimo da instituição de origem\n",
    "- network_acronym_str - acrônimo da rede de origem (pode descartar)\n",
    "- network_name_str - nome da rede origem (pode descartar)\n",
    "- title - título\n",
    "- author - autores\n",
    "- publishDate  - data da publicação\n",
    "- format - tipo de documento (article, masterThesis, doctoralThesis, …)\n",
    "- description - abstract\n",
    "- topic - keywords\n",
    "- language - idioma do documento\n",
    "- eu_rights_str_mv - tipo de acesso (openAccess, closed, …)\n",
    "- url - url externa para o documento"
   ]
  },
  {
   "cell_type": "code",
   "execution_count": 12,
   "metadata": {},
   "outputs": [
    {
     "data": {
      "text/plain": [
       "77400"
      ]
     },
     "execution_count": 12,
     "metadata": {},
     "output_type": "execute_result"
    }
   ],
   "source": [
    "df = pd.DataFrame(output)\n",
    "len(df)"
   ]
  },
  {
   "cell_type": "code",
   "execution_count": 13,
   "metadata": {},
   "outputs": [
    {
     "data": {
      "text/plain": [
       "Series([], Name: count, dtype: int64)"
      ]
     },
     "execution_count": 13,
     "metadata": {},
     "output_type": "execute_result"
    }
   ],
   "source": [
    "df.format.value_counts()"
   ]
  },
  {
   "cell_type": "markdown",
   "metadata": {},
   "source": [
    "# load"
   ]
  },
  {
   "cell_type": "code",
   "execution_count": null,
   "metadata": {},
   "outputs": [],
   "source": []
  },
  {
   "cell_type": "code",
   "execution_count": null,
   "metadata": {},
   "outputs": [],
   "source": [
    "# cr_client = CrossrefClient()\n",
    "# cr_client.get_doi_by_title(titulo_publicacao)"
   ]
  }
 ],
 "metadata": {
  "kernelspec": {
   "display_name": ".venv",
   "language": "python",
   "name": "python3"
  },
  "language_info": {
   "codemirror_mode": {
    "name": "ipython",
    "version": 3
   },
   "file_extension": ".py",
   "mimetype": "text/x-python",
   "name": "python",
   "nbconvert_exporter": "python",
   "pygments_lexer": "ipython3",
   "version": "3.11.6"
  }
 },
 "nbformat": 4,
 "nbformat_minor": 2
}

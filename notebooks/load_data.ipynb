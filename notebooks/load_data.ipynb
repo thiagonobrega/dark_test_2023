{
 "cells": [
  {
   "cell_type": "code",
   "execution_count": 6,
   "metadata": {},
   "outputs": [],
   "source": [
    "import time, sys , os\n",
    "import configparser\n",
    "\n",
    "import pandas as pd\n",
    "\n",
    "from dark import DarkGateway\n",
    "\n",
    "sys.path.append(\"../\")\n",
    "\n",
    "from utils.oasis_reader import extract_itens_from_json\n",
    "from clients import CrossrefClient, HyperDriveClient"
   ]
  },
  {
   "cell_type": "markdown",
   "metadata": {},
   "source": [
    "# get input"
   ]
  },
  {
   "cell_type": "code",
   "execution_count": null,
   "metadata": {},
   "outputs": [],
   "source": [
    "input_path=\"D:\\\\tmp\\oaisis\\\\\"\n",
    "file_list = ['oasisbr_1.zip','oasisbr_2.zip','oasisbr_3.zip','oasisbr_4.zip','oasisbr_5.zip']\n",
    "# file_list = ['oasisbr_5.zip']\n",
    "\n",
    "target_inst = {\n",
    "               'UEPB' : 1,\n",
    "               'UFCG' : 1,\n",
    "               'UFPB' : 1,\n",
    "               'FACISA' : 1,\n",
    "               'FIP' : 1\n",
    "            # 'UFSC' : 1\n",
    "}\n",
    "\n",
    "output=[]\n",
    "\n",
    "for i in file_list:\n",
    "    input_file_path = input_path + i\n",
    "    # out_local = extract_itens_from_json(input_file_path,remove_att_list=['description'])\n",
    "    out_local = extract_itens_from_json(input_file_path, filtro_inst=target_inst,remove_att_list=['description'])\n",
    "    output = output + out_local"
   ]
  },
  {
   "cell_type": "markdown",
   "metadata": {},
   "source": [
    "explorar"
   ]
  },
  {
   "cell_type": "markdown",
   "metadata": {},
   "source": [
    "- id - o id do documento no Oasisbr\n",
    "- oai_identifier_str - id externo que vem do repositório de origem\n",
    "- instname_str - nome da instituição de origem\n",
    "- instacron_str - acrônimo da instituição de origem\n",
    "- network_acronym_str - acrônimo da rede de origem (pode descartar)\n",
    "- network_name_str - nome da rede origem (pode descartar)\n",
    "- title - título\n",
    "- author - autores\n",
    "- publishDate  - data da publicação\n",
    "- format - tipo de documento (article, masterThesis, doctoralThesis, …)\n",
    "- description - abstract\n",
    "- topic - keywords\n",
    "- language - idioma do documento\n",
    "- eu_rights_str_mv - tipo de acesso (openAccess, closed, …)\n",
    "- url - url externa para o documento"
   ]
  },
  {
   "cell_type": "code",
   "execution_count": null,
   "metadata": {},
   "outputs": [],
   "source": [
    "df_ = pd.DataFrame(output)\n",
    "len(df_)"
   ]
  },
  {
   "cell_type": "code",
   "execution_count": null,
   "metadata": {},
   "outputs": [],
   "source": [
    "df_.to_json('pb-data.json')\n",
    "# df_.to_json('UFSC-data.json')\n",
    "df_.head(2)\n",
    "# df.instacron_str.value_counts()"
   ]
  },
  {
   "cell_type": "markdown",
   "metadata": {},
   "source": [
    "# load"
   ]
  },
  {
   "cell_type": "code",
   "execution_count": 7,
   "metadata": {},
   "outputs": [],
   "source": [
    "df=pd.read_json('pb-data.json')"
   ]
  },
  {
   "cell_type": "code",
   "execution_count": null,
   "metadata": {},
   "outputs": [],
   "source": [
    "df"
   ]
  },
  {
   "cell_type": "markdown",
   "metadata": {},
   "source": [
    "- id - o id do documento no Oasisbr\n",
    "- oai_identifier_str - id externo que vem do repositório de origem\n",
    "- instname_str - nome da instituição de origem\n",
    "- instacron_str - acrônimo da instituição de origem\n",
    "- network_acronym_str - acrônimo da rede de origem (pode descartar)\n",
    "- network_name_str - nome da rede origem (pode descartar)\n",
    "- title - título\n",
    "- author - autores\n",
    "- publishDate  - data da publicação\n",
    "- format - tipo de documento (article, masterThesis, doctoralThesis, …)\n",
    "- description - abstract\n",
    "- topic - keywords\n",
    "- language - idioma do documento\n",
    "- eu_rights_str_mv - tipo de acesso (openAccess, closed, …)\n",
    "- url - url externa para o documento"
   ]
  },
  {
   "cell_type": "code",
   "execution_count": 8,
   "metadata": {},
   "outputs": [],
   "source": [
    "def getDarkGateway():\n",
    "    PROJECT_ROOT = \"./\"\n",
    "    bc_config = configparser.ConfigParser()\n",
    "    deployed_contracts_config = configparser.ConfigParser()\n",
    "    \n",
    "    bc_config.read(os.path.join(PROJECT_ROOT, \"config.ini\"))\n",
    "    deployed_contracts_config.read(os.path.join(PROJECT_ROOT, \"deployed_contracts.ini\"))\n",
    "    dark_gw = DarkGateway(bc_config, deployed_contracts_config)\n",
    "    return dark_gw\n",
    "\n",
    "def measure_response_time(func, *args, **kwargs):\n",
    "    start_time = time.time()\n",
    "    result = func(*args, **kwargs)\n",
    "    end_time = time.time()\n",
    "    response_time = end_time - start_time\n",
    "    return result, response_time\n",
    "\n",
    "def measure_tx_params(dark_gw, func, *args, **kwargs):\n",
    "    # initial_amount = dark_gw.get_account_balance()\n",
    "    result, response_time = measure_response_time(func, *args, **kwargs)\n",
    "    # final_amount = dark_gw.get_account_balance()\n",
    "\n",
    "    # tx_value = initial_amount - final_amount\n",
    "    tx_value = 0\n",
    "    return result, response_time , tx_value\n",
    "\n",
    "# def adicionar(a, b):\n",
    "#     return a + b\n",
    "\n",
    "# Exemplo de uso:\n",
    "# resultado, tempo_de_resposta = measure_response_time(adicionar, 5, 3)"
   ]
  },
  {
   "cell_type": "code",
   "execution_count": 10,
   "metadata": {},
   "outputs": [
    {
     "data": {
      "text/plain": [
       "{'UFPB-10_dac161c193eb2eddda844d329397b8d0': {'dark': '8033/fkwff300000000005h9',\n",
       "  'status': 'ok',\n",
       "  'exec_time': 2.0231447219848633,\n",
       "  'amount': 0},\n",
       " 'UFPB-10_6c85577aae298ee530508b33c13c6c25': {'dark': '8033/fkwff300000000005j3',\n",
       "  'status': 'ok',\n",
       "  'exec_time': 1.9804716110229492,\n",
       "  'amount': 0},\n",
       " 'UFPB-10_52b6d1fc4f082ea490681ce15a400d1e': {'dark': '8033/fkwff300000000005kw',\n",
       "  'status': 'ok',\n",
       "  'exec_time': 1.9988832473754883,\n",
       "  'amount': 0},\n",
       " 'UFPB-10_acb8e546ea82c55732a1ecd5adab01fb': {'dark': '8033/fkwff300000000005mp',\n",
       "  'status': 'ok',\n",
       "  'exec_time': 1.9857394695281982,\n",
       "  'amount': 0}}"
      ]
     },
     "execution_count": 10,
     "metadata": {},
     "output_type": "execute_result"
    }
   ],
   "source": [
    "i=0\n",
    "cc = HyperDriveClient()\n",
    "oasis_dark_map = {}\n",
    "\n",
    " \n",
    "dark_gw = getDarkGateway()\n",
    "\n",
    "for index, row in df.iterrows():\n",
    "    oasis_id = row['id']\n",
    "    oai_id   = row['oai_identifier_str']\n",
    "    title    = row.get('title')\n",
    "    tipo     = row.get('format')\n",
    "    url      = row.get('url')\n",
    "\n",
    "    \n",
    "    # print(index)\n",
    "    # request, resp_time = measure_response_time(cc.request_pid)\n",
    "    request, resp_time, amount = measure_tx_params(dark_gw,cc.request_pid)\n",
    "    try:\n",
    "        ark = request.as_dict['ark']\n",
    "        status = 'ok'\n",
    "    except KeyError:\n",
    "        ark = '-'\n",
    "        status = 'error'\n",
    "    \n",
    "    \n",
    "    oasis_dark_map[oasis_id] = {'dark' : ark, 'status' :  status , 'exec_time' : resp_time , 'amount' : amount}\n",
    "\n",
    "\n",
    "    if i > 2:\n",
    "        break\n",
    "    i+=1\n",
    "\n",
    "oasis_dark_map"
   ]
  },
  {
   "cell_type": "code",
   "execution_count": null,
   "metadata": {},
   "outputs": [],
   "source": [
    "# cr_client = CrossrefClient()\n",
    "# cr_client.get_doi_by_title(titulo_publicacao)"
   ]
  }
 ],
 "metadata": {
  "kernelspec": {
   "display_name": ".venv",
   "language": "python",
   "name": "python3"
  },
  "language_info": {
   "codemirror_mode": {
    "name": "ipython",
    "version": 3
   },
   "file_extension": ".py",
   "mimetype": "text/x-python",
   "name": "python",
   "nbconvert_exporter": "python",
   "pygments_lexer": "ipython3",
   "version": "3.10.10"
  }
 },
 "nbformat": 4,
 "nbformat_minor": 2
}

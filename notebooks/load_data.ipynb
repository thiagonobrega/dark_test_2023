{
 "cells": [
  {
   "cell_type": "code",
   "execution_count": 1,
   "metadata": {},
   "outputs": [],
   "source": [
    "import sys\n",
    "import pandas as pd\n",
    "sys.path.append(\"../\")\n",
    "\n",
    "from utils.oasis_reader import extract_itens_from_json\n",
    "from clients import CrossrefClient"
   ]
  },
  {
   "cell_type": "markdown",
   "metadata": {},
   "source": [
    "# get input"
   ]
  },
  {
   "cell_type": "code",
   "execution_count": 3,
   "metadata": {},
   "outputs": [],
   "source": [
    "input_path=\"D:\\\\tmp\\oaisis\\\\\"\n",
    "file_list = ['oasisbr_1.zip','oasisbr_2.zip','oasisbr_3.zip','oasisbr_4.zip','oasisbr_5.zip']\n",
    "# file_list = ['oasisbr_5.zip']\n",
    "\n",
    "target_inst = {\n",
    "               'UEPB' : 1,\n",
    "               'UFCG' : 1,\n",
    "               'UFPB' : 1,\n",
    "               'FACISA' : 1,\n",
    "               'FIP' : 1\n",
    "}\n",
    "\n",
    "output=[]\n",
    "\n",
    "for i in file_list:\n",
    "    input_file_path = input_path + i\n",
    "    # out_local = extract_itens_from_json(input_file_path,remove_att_list=['description'])\n",
    "    out_local = extract_itens_from_json(input_file_path, target_inst=target_inst,remove_att_list=['description'])\n",
    "    output = output + out_local"
   ]
  },
  {
   "cell_type": "markdown",
   "metadata": {},
   "source": [
    "explorar"
   ]
  },
  {
   "cell_type": "markdown",
   "metadata": {},
   "source": [
    "- id - o id do documento no Oasisbr\n",
    "- oai_identifier_str - id externo que vem do repositório de origem\n",
    "- instname_str - nome da instituição de origem\n",
    "- instacron_str - acrônimo da instituição de origem\n",
    "- network_acronym_str - acrônimo da rede de origem (pode descartar)\n",
    "- network_name_str - nome da rede origem (pode descartar)\n",
    "- title - título\n",
    "- author - autores\n",
    "- publishDate  - data da publicação\n",
    "- format - tipo de documento (article, masterThesis, doctoralThesis, …)\n",
    "- description - abstract\n",
    "- topic - keywords\n",
    "- language - idioma do documento\n",
    "- eu_rights_str_mv - tipo de acesso (openAccess, closed, …)\n",
    "- url - url externa para o documento"
   ]
  },
  {
   "cell_type": "code",
   "execution_count": 4,
   "metadata": {},
   "outputs": [
    {
     "data": {
      "text/plain": [
       "47820"
      ]
     },
     "execution_count": 4,
     "metadata": {},
     "output_type": "execute_result"
    }
   ],
   "source": [
    "df = pd.DataFrame(output)\n",
    "len(df)"
   ]
  },
  {
   "cell_type": "code",
   "execution_count": 5,
   "metadata": {},
   "outputs": [
    {
     "data": {
      "text/html": [
       "<div>\n",
       "<style scoped>\n",
       "    .dataframe tbody tr th:only-of-type {\n",
       "        vertical-align: middle;\n",
       "    }\n",
       "\n",
       "    .dataframe tbody tr th {\n",
       "        vertical-align: top;\n",
       "    }\n",
       "\n",
       "    .dataframe thead th {\n",
       "        text-align: right;\n",
       "    }\n",
       "</style>\n",
       "<table border=\"1\" class=\"dataframe\">\n",
       "  <thead>\n",
       "    <tr style=\"text-align: right;\">\n",
       "      <th></th>\n",
       "      <th>id</th>\n",
       "      <th>oai_identifier_str</th>\n",
       "      <th>network_acronym_str</th>\n",
       "      <th>network_name_str</th>\n",
       "      <th>title</th>\n",
       "      <th>instname_str</th>\n",
       "      <th>instacron_str</th>\n",
       "      <th>description</th>\n",
       "    </tr>\n",
       "  </thead>\n",
       "  <tbody>\n",
       "    <tr>\n",
       "      <th>0</th>\n",
       "      <td>UFPB-10_dac161c193eb2eddda844d329397b8d0</td>\n",
       "      <td>oai:periodicos.ufpb.br:article/14616</td>\n",
       "      <td>UFPB-10</td>\n",
       "      <td>Acta Semiótica et Lingvistica (Online)</td>\n",
       "      <td>CONSIDERAÇÕES SOBRE A SEMIÓTICA DAS CULTURAS, ...</td>\n",
       "      <td>Universidade Federal da Paraíba (UFPB)</td>\n",
       "      <td>UFPB</td>\n",
       "      <td>NaN</td>\n",
       "    </tr>\n",
       "    <tr>\n",
       "      <th>1</th>\n",
       "      <td>UFPB-10_6c85577aae298ee530508b33c13c6c25</td>\n",
       "      <td>oai:periodicos.ufpb.br:article/14617</td>\n",
       "      <td>UFPB-10</td>\n",
       "      <td>Acta Semiótica et Lingvistica (Online)</td>\n",
       "      <td>SÉMIOTIQUE ET SCIENCES DE LA CULTURE</td>\n",
       "      <td>Universidade Federal da Paraíba (UFPB)</td>\n",
       "      <td>UFPB</td>\n",
       "      <td>NaN</td>\n",
       "    </tr>\n",
       "  </tbody>\n",
       "</table>\n",
       "</div>"
      ],
      "text/plain": [
       "                                         id  \\\n",
       "0  UFPB-10_dac161c193eb2eddda844d329397b8d0   \n",
       "1  UFPB-10_6c85577aae298ee530508b33c13c6c25   \n",
       "\n",
       "                     oai_identifier_str network_acronym_str  \\\n",
       "0  oai:periodicos.ufpb.br:article/14616             UFPB-10   \n",
       "1  oai:periodicos.ufpb.br:article/14617             UFPB-10   \n",
       "\n",
       "                         network_name_str  \\\n",
       "0  Acta Semiótica et Lingvistica (Online)   \n",
       "1  Acta Semiótica et Lingvistica (Online)   \n",
       "\n",
       "                                               title  \\\n",
       "0  CONSIDERAÇÕES SOBRE A SEMIÓTICA DAS CULTURAS, ...   \n",
       "1               SÉMIOTIQUE ET SCIENCES DE LA CULTURE   \n",
       "\n",
       "                             instname_str instacron_str description  \n",
       "0  Universidade Federal da Paraíba (UFPB)          UFPB         NaN  \n",
       "1  Universidade Federal da Paraíba (UFPB)          UFPB         NaN  "
      ]
     },
     "execution_count": 5,
     "metadata": {},
     "output_type": "execute_result"
    }
   ],
   "source": [
    "df.to_json('pb-data.json')\n",
    "df.head(2)\n",
    "# df.instacron_str.value_counts()"
   ]
  },
  {
   "cell_type": "markdown",
   "metadata": {},
   "source": [
    "# load"
   ]
  },
  {
   "cell_type": "code",
   "execution_count": null,
   "metadata": {},
   "outputs": [],
   "source": []
  },
  {
   "cell_type": "code",
   "execution_count": null,
   "metadata": {},
   "outputs": [],
   "source": [
    "# cr_client = CrossrefClient()\n",
    "# cr_client.get_doi_by_title(titulo_publicacao)"
   ]
  }
 ],
 "metadata": {
  "kernelspec": {
   "display_name": ".venv",
   "language": "python",
   "name": "python3"
  },
  "language_info": {
   "codemirror_mode": {
    "name": "ipython",
    "version": 3
   },
   "file_extension": ".py",
   "mimetype": "text/x-python",
   "name": "python",
   "nbconvert_exporter": "python",
   "pygments_lexer": "ipython3",
   "version": "3.11.6"
  }
 },
 "nbformat": 4,
 "nbformat_minor": 2
}
